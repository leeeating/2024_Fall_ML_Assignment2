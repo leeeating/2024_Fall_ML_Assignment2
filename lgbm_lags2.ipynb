{
 "cells": [
  {
   "cell_type": "code",
   "execution_count": null,
   "metadata": {},
   "outputs": [],
   "source": [
    "import numpy as np\n",
    "import pandas as pd\n",
    "import matplotlib.pyplot as plt\n",
    "import os\n",
    "import polars as pl\n",
    "import lightgbm as lgb\n",
    "import joblib\n",
    "from lightgbm import LGBMRegressor\n",
    "\n",
    "pl.Config.set_tbl_rows(-1)\n",
    "pl.Config.set_tbl_cols(-1)"
   ]
  },
  {
   "cell_type": "code",
   "execution_count": 2,
   "metadata": {},
   "outputs": [],
   "source": [
    "multi_index = ['date_id', 'time_id', 'symbol_id']\n",
    "feature_col = [f'feature_{i:02d}' for i in range(79)]\n",
    "\n",
    "weight = ['weight']\n",
    "target = ['responder_6']\n",
    "start_date = 1100\n",
    "interest_col = multi_index + feature_col + weight + target"
   ]
  },
  {
   "cell_type": "code",
   "execution_count": null,
   "metadata": {},
   "outputs": [],
   "source": [
    "df = (pl.scan_parquet('data/train_with_lag.parquet')\n",
    "      .sort(['date_id', 'symbol_id', 'time_id', ])\n",
    "      .collect())\n",
    "print(df.shape)"
   ]
  },
  {
   "cell_type": "code",
   "execution_count": null,
   "metadata": {},
   "outputs": [],
   "source": [
    "df.head()"
   ]
  },
  {
   "cell_type": "code",
   "execution_count": 5,
   "metadata": {},
   "outputs": [],
   "source": [
    "X = df.drop(multi_index+weight+target).to_pandas()\n",
    "y = df[target].to_pandas()\n",
    "sample_weight = df[weight].to_pandas().values.flatten()"
   ]
  },
  {
   "cell_type": "code",
   "execution_count": 6,
   "metadata": {},
   "outputs": [],
   "source": [
    "parm = {'n_estimators':1000, 'max_depth':6, 'num_leaves':64, 'learning_rate':0.05,\n",
    "        'colsample_bytree':0.5, 'subsample':0.5, 'subsample_freq':100,\n",
    "        'importance_type':'gain', 'boosting_type':'dart' ,'random_state':0, 'n_jobs':-1}\n",
    "model = LGBMRegressor(**parm)"
   ]
  },
  {
   "cell_type": "code",
   "execution_count": null,
   "metadata": {},
   "outputs": [],
   "source": [
    "model.fit(X, y, sample_weight=sample_weight)"
   ]
  },
  {
   "cell_type": "code",
   "execution_count": null,
   "metadata": {},
   "outputs": [],
   "source": [
    "lgb.plot_importance(model, max_num_features=30, importance_type='gain')  # 或 'gain'\n",
    "plt.title(\"Feature Importance\")\n",
    "plt.show()"
   ]
  },
  {
   "cell_type": "code",
   "execution_count": null,
   "metadata": {},
   "outputs": [],
   "source": [
    "data = {\n",
    "    'model' : model, \n",
    "    'feature' : X.columns.tolist(),\n",
    "    'parmaters' : parm\n",
    "    }\n",
    "\n",
    "joblib.dump(data, './model/lgbm_lag05_d7_n2000.pkl')"
   ]
  }
 ],
 "metadata": {
  "kernelspec": {
   "display_name": "eating",
   "language": "python",
   "name": "python3"
  },
  "language_info": {
   "codemirror_mode": {
    "name": "ipython",
    "version": 3
   },
   "file_extension": ".py",
   "mimetype": "text/x-python",
   "name": "python",
   "nbconvert_exporter": "python",
   "pygments_lexer": "ipython3",
   "version": "3.12.5"
  }
 },
 "nbformat": 4,
 "nbformat_minor": 2
}
